{
 "cells": [
  {
   "cell_type": "code",
   "execution_count": 1,
   "metadata": {},
   "outputs": [],
   "source": [
    "import pandas as pd\n",
    "import numpy as np"
   ]
  },
  {
   "cell_type": "code",
   "execution_count": 2,
   "metadata": {},
   "outputs": [
    {
     "data": {
      "text/html": [
       "<div>\n",
       "<style scoped>\n",
       "    .dataframe tbody tr th:only-of-type {\n",
       "        vertical-align: middle;\n",
       "    }\n",
       "\n",
       "    .dataframe tbody tr th {\n",
       "        vertical-align: top;\n",
       "    }\n",
       "\n",
       "    .dataframe thead th {\n",
       "        text-align: right;\n",
       "    }\n",
       "</style>\n",
       "<table border=\"1\" class=\"dataframe\">\n",
       "  <thead>\n",
       "    <tr style=\"text-align: right;\">\n",
       "      <th></th>\n",
       "      <th>ilce_adi</th>\n",
       "      <th>mahalle_adi</th>\n",
       "      <th>sulak_alan_miktari</th>\n",
       "      <th>toprak_tipi</th>\n",
       "      <th>product_category</th>\n",
       "    </tr>\n",
       "  </thead>\n",
       "  <tbody>\n",
       "    <tr>\n",
       "      <th>0</th>\n",
       "      <td>Ahırlı</td>\n",
       "      <td>ALİÇERÇİ</td>\n",
       "      <td>10%</td>\n",
       "      <td>Kumlu toprak</td>\n",
       "      <td>E</td>\n",
       "    </tr>\n",
       "    <tr>\n",
       "      <th>1</th>\n",
       "      <td>Ahırlı</td>\n",
       "      <td>BADEMLİ</td>\n",
       "      <td>10%</td>\n",
       "      <td>Kumlu toprak</td>\n",
       "      <td>E</td>\n",
       "    </tr>\n",
       "    <tr>\n",
       "      <th>2</th>\n",
       "      <td>Ahırlı</td>\n",
       "      <td>BALIKLAVA</td>\n",
       "      <td>20%</td>\n",
       "      <td>Kumlu toprak</td>\n",
       "      <td>E</td>\n",
       "    </tr>\n",
       "    <tr>\n",
       "      <th>3</th>\n",
       "      <td>Ahırlı</td>\n",
       "      <td>BÜYÜKÖZ</td>\n",
       "      <td>5%</td>\n",
       "      <td>Kumlu toprak</td>\n",
       "      <td>E</td>\n",
       "    </tr>\n",
       "    <tr>\n",
       "      <th>4</th>\n",
       "      <td>Ahırlı</td>\n",
       "      <td>ÇİFTLİK</td>\n",
       "      <td>75%</td>\n",
       "      <td>Kumlu toprak</td>\n",
       "      <td>F</td>\n",
       "    </tr>\n",
       "  </tbody>\n",
       "</table>\n",
       "</div>"
      ],
      "text/plain": [
       "  ilce_adi mahalle_adi sulak_alan_miktari   toprak_tipi product_category\n",
       "0   Ahırlı    ALİÇERÇİ                10%  Kumlu toprak                E\n",
       "1   Ahırlı     BADEMLİ                10%  Kumlu toprak                E\n",
       "2   Ahırlı   BALIKLAVA                20%  Kumlu toprak                E\n",
       "3   Ahırlı     BÜYÜKÖZ                 5%  Kumlu toprak                E\n",
       "4   Ahırlı     ÇİFTLİK                75%  Kumlu toprak                F"
      ]
     },
     "execution_count": 2,
     "metadata": {},
     "output_type": "execute_result"
    }
   ],
   "source": [
    "data = pd.read_excel('../data/model_data.xlsx')\n",
    "df = data.copy()\n",
    "df.head()"
   ]
  },
  {
   "cell_type": "code",
   "execution_count": null,
   "metadata": {},
   "outputs": [],
   "source": []
  }
 ],
 "metadata": {
  "kernelspec": {
   "display_name": "base",
   "language": "python",
   "name": "python3"
  },
  "language_info": {
   "codemirror_mode": {
    "name": "ipython",
    "version": 3
   },
   "file_extension": ".py",
   "mimetype": "text/x-python",
   "name": "python",
   "nbconvert_exporter": "python",
   "pygments_lexer": "ipython3",
   "version": "3.9.13"
  }
 },
 "nbformat": 4,
 "nbformat_minor": 2
}
